{
 "cells": [
  {
   "cell_type": "code",
   "execution_count": 5,
   "metadata": {},
   "outputs": [],
   "source": [
    "import pandas as pd\n",
    "import numpy as np\n",
    "from matplotlib import pyplot as plt\n",
    "%matplotlib inline"
   ]
  },
  {
   "cell_type": "code",
   "execution_count": 9,
   "metadata": {},
   "outputs": [],
   "source": [
    "clk=pd.read_excel('Clickstream.xlsx',usecols=12)"
   ]
  },
  {
   "cell_type": "markdown",
   "metadata": {},
   "source": [
    "### Dropping rows with null values"
   ]
  },
  {
   "cell_type": "code",
   "execution_count": 10,
   "metadata": {},
   "outputs": [
    {
     "name": "stdout",
     "output_type": "stream",
     "text": [
      "ip                            0\n",
      "login_or_not                  0\n",
      "#page_view                    0\n",
      "page_view_time_seconds_avg    0\n",
      "#page_product_view            0\n",
      "page_product_time_avg         1\n",
      "number_searches               0\n",
      "#times_check_shoppingcart     0\n",
      "read_Q&A                      0\n",
      "read_product_definition       0\n",
      "previous_site                 0\n",
      "time_of_day                   0\n",
      "purchase                      0\n",
      "dtype: int64\n"
     ]
    }
   ],
   "source": [
    "print (clk.isnull().sum())\n",
    "clk=clk.dropna(how='any',axis=0)"
   ]
  },
  {
   "cell_type": "markdown",
   "metadata": {},
   "source": [
    "### Convert categorical values to binary"
   ]
  },
  {
   "cell_type": "code",
   "execution_count": 11,
   "metadata": {},
   "outputs": [],
   "source": [
    "prev_site=pd.get_dummies(clk['previous_site'],drop_first=True)\n",
    "time_day=pd.get_dummies(clk['time_of_day'],drop_first=True)\n",
    "\n",
    "prev_site.columns=['PS_SearchEngine','PS_Email','PS_Ads','PS_Other']\n",
    "time_day.columns=['TD_Noon','TD_AfterNoon','TD_Eve']\n",
    "\n",
    "clk=pd.concat([clk,prev_site,time_day],axis=1)\n",
    "clk.drop(['previous_site','time_of_day'],inplace=True,axis=1)"
   ]
  },
  {
   "cell_type": "code",
   "execution_count": 24,
   "metadata": {},
   "outputs": [],
   "source": [
    "#pd.get_dummies(clk['previous_site'],drop_first=True)"
   ]
  },
  {
   "cell_type": "code",
   "execution_count": 12,
   "metadata": {},
   "outputs": [
    {
     "data": {
      "text/plain": [
       "(405919, 64381)"
      ]
     },
     "execution_count": 12,
     "metadata": {},
     "output_type": "execute_result"
    }
   ],
   "source": [
    "len(clk['ip']),(len(clk['ip'].unique()))"
   ]
  },
  {
   "cell_type": "code",
   "execution_count": 13,
   "metadata": {},
   "outputs": [
    {
     "data": {
      "text/plain": [
       "ip                              int64\n",
       "login_or_not                    int64\n",
       "#page_view                      int64\n",
       "page_view_time_seconds_avg    float64\n",
       "#page_product_view              int64\n",
       "page_product_time_avg         float64\n",
       "number_searches                 int64\n",
       "#times_check_shoppingcart       int64\n",
       "read_Q&A                        int64\n",
       "read_product_definition         int64\n",
       "purchase                        int64\n",
       "PS_SearchEngine                 uint8\n",
       "PS_Email                        uint8\n",
       "PS_Ads                          uint8\n",
       "PS_Other                        uint8\n",
       "TD_Noon                         uint8\n",
       "TD_AfterNoon                    uint8\n",
       "TD_Eve                          uint8\n",
       "dtype: object"
      ]
     },
     "execution_count": 13,
     "metadata": {},
     "output_type": "execute_result"
    }
   ],
   "source": [
    "clk.dtypes"
   ]
  },
  {
   "cell_type": "code",
   "execution_count": 14,
   "metadata": {},
   "outputs": [
    {
     "data": {
      "text/html": [
       "<div>\n",
       "<style scoped>\n",
       "    .dataframe tbody tr th:only-of-type {\n",
       "        vertical-align: middle;\n",
       "    }\n",
       "\n",
       "    .dataframe tbody tr th {\n",
       "        vertical-align: top;\n",
       "    }\n",
       "\n",
       "    .dataframe thead th {\n",
       "        text-align: right;\n",
       "    }\n",
       "</style>\n",
       "<table border=\"1\" class=\"dataframe\">\n",
       "  <thead>\n",
       "    <tr style=\"text-align: right;\">\n",
       "      <th></th>\n",
       "      <th>ip</th>\n",
       "      <th>login_or_not</th>\n",
       "      <th>#page_view</th>\n",
       "      <th>page_view_time_seconds_avg</th>\n",
       "      <th>#page_product_view</th>\n",
       "      <th>page_product_time_avg</th>\n",
       "      <th>number_searches</th>\n",
       "      <th>#times_check_shoppingcart</th>\n",
       "      <th>read_Q&amp;A</th>\n",
       "      <th>read_product_definition</th>\n",
       "      <th>purchase</th>\n",
       "      <th>PS_SearchEngine</th>\n",
       "      <th>PS_Email</th>\n",
       "      <th>PS_Ads</th>\n",
       "      <th>PS_Other</th>\n",
       "      <th>TD_Noon</th>\n",
       "      <th>TD_AfterNoon</th>\n",
       "      <th>TD_Eve</th>\n",
       "    </tr>\n",
       "  </thead>\n",
       "  <tbody>\n",
       "    <tr>\n",
       "      <th>0</th>\n",
       "      <td>18353986</td>\n",
       "      <td>0</td>\n",
       "      <td>10</td>\n",
       "      <td>56.0</td>\n",
       "      <td>0</td>\n",
       "      <td>0.0</td>\n",
       "      <td>3</td>\n",
       "      <td>0</td>\n",
       "      <td>0</td>\n",
       "      <td>1</td>\n",
       "      <td>0</td>\n",
       "      <td>1</td>\n",
       "      <td>0</td>\n",
       "      <td>0</td>\n",
       "      <td>0</td>\n",
       "      <td>0</td>\n",
       "      <td>0</td>\n",
       "      <td>0</td>\n",
       "    </tr>\n",
       "    <tr>\n",
       "      <th>1</th>\n",
       "      <td>18356284</td>\n",
       "      <td>0</td>\n",
       "      <td>7</td>\n",
       "      <td>6.0</td>\n",
       "      <td>1</td>\n",
       "      <td>0.0</td>\n",
       "      <td>1</td>\n",
       "      <td>0</td>\n",
       "      <td>0</td>\n",
       "      <td>0</td>\n",
       "      <td>0</td>\n",
       "      <td>0</td>\n",
       "      <td>0</td>\n",
       "      <td>0</td>\n",
       "      <td>1</td>\n",
       "      <td>0</td>\n",
       "      <td>0</td>\n",
       "      <td>0</td>\n",
       "    </tr>\n",
       "    <tr>\n",
       "      <th>2</th>\n",
       "      <td>18357390</td>\n",
       "      <td>0</td>\n",
       "      <td>3</td>\n",
       "      <td>5.0</td>\n",
       "      <td>0</td>\n",
       "      <td>0.0</td>\n",
       "      <td>0</td>\n",
       "      <td>0</td>\n",
       "      <td>0</td>\n",
       "      <td>0</td>\n",
       "      <td>0</td>\n",
       "      <td>0</td>\n",
       "      <td>0</td>\n",
       "      <td>0</td>\n",
       "      <td>1</td>\n",
       "      <td>0</td>\n",
       "      <td>0</td>\n",
       "      <td>1</td>\n",
       "    </tr>\n",
       "    <tr>\n",
       "      <th>3</th>\n",
       "      <td>18357390</td>\n",
       "      <td>0</td>\n",
       "      <td>7</td>\n",
       "      <td>5.0</td>\n",
       "      <td>1</td>\n",
       "      <td>0.0</td>\n",
       "      <td>1</td>\n",
       "      <td>0</td>\n",
       "      <td>0</td>\n",
       "      <td>0</td>\n",
       "      <td>0</td>\n",
       "      <td>0</td>\n",
       "      <td>0</td>\n",
       "      <td>0</td>\n",
       "      <td>1</td>\n",
       "      <td>0</td>\n",
       "      <td>0</td>\n",
       "      <td>1</td>\n",
       "    </tr>\n",
       "    <tr>\n",
       "      <th>4</th>\n",
       "      <td>18357851</td>\n",
       "      <td>0</td>\n",
       "      <td>8</td>\n",
       "      <td>144.0</td>\n",
       "      <td>0</td>\n",
       "      <td>0.0</td>\n",
       "      <td>1</td>\n",
       "      <td>0</td>\n",
       "      <td>0</td>\n",
       "      <td>1</td>\n",
       "      <td>0</td>\n",
       "      <td>1</td>\n",
       "      <td>0</td>\n",
       "      <td>0</td>\n",
       "      <td>0</td>\n",
       "      <td>0</td>\n",
       "      <td>1</td>\n",
       "      <td>0</td>\n",
       "    </tr>\n",
       "  </tbody>\n",
       "</table>\n",
       "</div>"
      ],
      "text/plain": [
       "         ip  login_or_not  #page_view  page_view_time_seconds_avg  \\\n",
       "0  18353986             0          10                        56.0   \n",
       "1  18356284             0           7                         6.0   \n",
       "2  18357390             0           3                         5.0   \n",
       "3  18357390             0           7                         5.0   \n",
       "4  18357851             0           8                       144.0   \n",
       "\n",
       "   #page_product_view  page_product_time_avg  number_searches  \\\n",
       "0                   0                    0.0                3   \n",
       "1                   1                    0.0                1   \n",
       "2                   0                    0.0                0   \n",
       "3                   1                    0.0                1   \n",
       "4                   0                    0.0                1   \n",
       "\n",
       "   #times_check_shoppingcart  read_Q&A  read_product_definition  purchase  \\\n",
       "0                          0         0                        1         0   \n",
       "1                          0         0                        0         0   \n",
       "2                          0         0                        0         0   \n",
       "3                          0         0                        0         0   \n",
       "4                          0         0                        1         0   \n",
       "\n",
       "   PS_SearchEngine  PS_Email  PS_Ads  PS_Other  TD_Noon  TD_AfterNoon  TD_Eve  \n",
       "0                1         0       0         0        0             0       0  \n",
       "1                0         0       0         1        0             0       0  \n",
       "2                0         0       0         1        0             0       1  \n",
       "3                0         0       0         1        0             0       1  \n",
       "4                1         0       0         0        0             1       0  "
      ]
     },
     "execution_count": 14,
     "metadata": {},
     "output_type": "execute_result"
    }
   ],
   "source": [
    "clk['ip']=clk['ip'].astype(str)\n",
    "clk['page_view_time_seconds_avg'] = clk['page_view_time_seconds_avg'].round()\n",
    "clk.head()"
   ]
  },
  {
   "cell_type": "markdown",
   "metadata": {},
   "source": [
    "# Correlation\n",
    "Using Correlation to see which features are positively correlated with purchases. This would also help us determine which features we must be using for predicting the purchases.\n"
   ]
  },
  {
   "cell_type": "code",
   "execution_count": 39,
   "metadata": {},
   "outputs": [
    {
     "name": "stdout",
     "output_type": "stream",
     "text": [
      "                            login_or_not  #page_view  \\\n",
      "login_or_not                    1.000000    0.288008   \n",
      "#page_view                      0.288008    1.000000   \n",
      "page_view_time_seconds_avg      0.091929    0.248922   \n",
      "#page_product_view              0.127944    0.580278   \n",
      "page_product_time_avg           0.084760    0.227354   \n",
      "number_searches                 0.145603    0.541134   \n",
      "#times_check_shoppingcart       0.155975    0.386877   \n",
      "read_Q&A                       -0.122597   -0.103281   \n",
      "read_product_definition        -0.035874   -0.003708   \n",
      "purchase                        0.240744    0.416779   \n",
      "PS_SearchEngine                -0.028486    0.010792   \n",
      "PS_Email                        0.059167    0.036822   \n",
      "PS_Ads                         -0.007829   -0.008431   \n",
      "PS_Other                        0.020881    0.051487   \n",
      "TD_Noon                        -0.000353    0.011295   \n",
      "TD_AfterNoon                    0.017324    0.017357   \n",
      "TD_Eve                         -0.005319   -0.001945   \n",
      "\n",
      "                            page_view_time_seconds_avg  #page_product_view  \\\n",
      "login_or_not                                  0.091929            0.127944   \n",
      "#page_view                                    0.248922            0.580278   \n",
      "page_view_time_seconds_avg                    1.000000            0.160719   \n",
      "#page_product_view                            0.160719            1.000000   \n",
      "page_product_time_avg                         0.377016            0.223202   \n",
      "number_searches                               0.134067            0.374579   \n",
      "#times_check_shoppingcart                     0.052988            0.211642   \n",
      "read_Q&A                                     -0.040239           -0.138237   \n",
      "read_product_definition                       0.050959           -0.086386   \n",
      "purchase                                      0.155626            0.237688   \n",
      "PS_SearchEngine                               0.011093            0.038632   \n",
      "PS_Email                                      0.025548            0.020529   \n",
      "PS_Ads                                       -0.003692           -0.007948   \n",
      "PS_Other                                      0.017458           -0.004377   \n",
      "TD_Noon                                       0.005626            0.019138   \n",
      "TD_AfterNoon                                  0.019360            0.020838   \n",
      "TD_Eve                                        0.003091           -0.005403   \n",
      "\n",
      "                            page_product_time_avg  number_searches  \\\n",
      "login_or_not                             0.084760         0.145603   \n",
      "#page_view                               0.227354         0.541134   \n",
      "page_view_time_seconds_avg               0.377016         0.134067   \n",
      "#page_product_view                       0.223202         0.374579   \n",
      "page_product_time_avg                    1.000000         0.200964   \n",
      "number_searches                          0.200964         1.000000   \n",
      "#times_check_shoppingcart                0.066281         0.171244   \n",
      "read_Q&A                                -0.106137        -0.184396   \n",
      "read_product_definition                 -0.062437        -0.091911   \n",
      "purchase                                 0.297367         0.205457   \n",
      "PS_SearchEngine                          0.042038         0.095052   \n",
      "PS_Email                                 0.018325         0.011779   \n",
      "PS_Ads                                  -0.005495         0.005693   \n",
      "PS_Other                                -0.018035        -0.059568   \n",
      "TD_Noon                                  0.008852         0.014688   \n",
      "TD_AfterNoon                             0.022728         0.030006   \n",
      "TD_Eve                                  -0.000347         0.000972   \n",
      "\n",
      "                            #times_check_shoppingcart  read_Q&A  \\\n",
      "login_or_not                                 0.155975 -0.122597   \n",
      "#page_view                                   0.386877 -0.103281   \n",
      "page_view_time_seconds_avg                   0.052988 -0.040239   \n",
      "#page_product_view                           0.211642 -0.138237   \n",
      "page_product_time_avg                        0.066281 -0.106137   \n",
      "number_searches                              0.171244 -0.184396   \n",
      "#times_check_shoppingcart                    1.000000 -0.049425   \n",
      "read_Q&A                                    -0.049425  1.000000   \n",
      "read_product_definition                     -0.031256 -0.274314   \n",
      "purchase                                     0.304042 -0.112630   \n",
      "PS_SearchEngine                             -0.002253 -0.195102   \n",
      "PS_Email                                     0.014546 -0.055594   \n",
      "PS_Ads                                      -0.002706 -0.042246   \n",
      "PS_Other                                    -0.001869 -0.114443   \n",
      "TD_Noon                                      0.007987 -0.018214   \n",
      "TD_AfterNoon                                 0.005993 -0.060009   \n",
      "TD_Eve                                       0.002112 -0.009347   \n",
      "\n",
      "                            read_product_definition  purchase  \\\n",
      "login_or_not                              -0.035874  0.240744   \n",
      "#page_view                                -0.003708  0.416779   \n",
      "page_view_time_seconds_avg                 0.050959  0.155626   \n",
      "#page_product_view                        -0.086386  0.237688   \n",
      "page_product_time_avg                     -0.062437  0.297367   \n",
      "number_searches                           -0.091911  0.205457   \n",
      "#times_check_shoppingcart                 -0.031256  0.304042   \n",
      "read_Q&A                                  -0.274314 -0.112630   \n",
      "read_product_definition                    1.000000 -0.073166   \n",
      "purchase                                  -0.073166  1.000000   \n",
      "PS_SearchEngine                            0.210423 -0.007116   \n",
      "PS_Email                                  -0.036679  0.046661   \n",
      "PS_Ads                                    -0.027853 -0.005937   \n",
      "PS_Other                                   0.058198 -0.001628   \n",
      "TD_Noon                                    0.013578  0.008000   \n",
      "TD_AfterNoon                               0.012523  0.016792   \n",
      "TD_Eve                                     0.046257  0.012863   \n",
      "\n",
      "                            PS_SearchEngine  PS_Email    PS_Ads  PS_Other  \\\n",
      "login_or_not                      -0.028486  0.059167 -0.007829  0.020881   \n",
      "#page_view                         0.010792  0.036822 -0.008431  0.051487   \n",
      "page_view_time_seconds_avg         0.011093  0.025548 -0.003692  0.017458   \n",
      "#page_product_view                 0.038632  0.020529 -0.007948 -0.004377   \n",
      "page_product_time_avg              0.042038  0.018325 -0.005495 -0.018035   \n",
      "number_searches                    0.095052  0.011779  0.005693 -0.059568   \n",
      "#times_check_shoppingcart         -0.002253  0.014546 -0.002706 -0.001869   \n",
      "read_Q&A                          -0.195102 -0.055594 -0.042246 -0.114443   \n",
      "read_product_definition            0.210423 -0.036679 -0.027853  0.058198   \n",
      "purchase                          -0.007116  0.046661 -0.005937 -0.001628   \n",
      "PS_SearchEngine                    1.000000 -0.058921 -0.044506 -0.477259   \n",
      "PS_Email                          -0.058921  1.000000 -0.003443 -0.036924   \n",
      "PS_Ads                            -0.044506 -0.003443  1.000000 -0.027891   \n",
      "PS_Other                          -0.477259 -0.036924 -0.027891  1.000000   \n",
      "TD_Noon                            0.042717  0.002903 -0.004086 -0.018322   \n",
      "TD_AfterNoon                       0.075145  0.007896 -0.009113 -0.019029   \n",
      "TD_Eve                             0.063292 -0.003523 -0.000279 -0.017608   \n",
      "\n",
      "                             TD_Noon  TD_AfterNoon    TD_Eve  \n",
      "login_or_not               -0.000353      0.017324 -0.005319  \n",
      "#page_view                  0.011295      0.017357 -0.001945  \n",
      "page_view_time_seconds_avg  0.005626      0.019360  0.003091  \n",
      "#page_product_view          0.019138      0.020838 -0.005403  \n",
      "page_product_time_avg       0.008852      0.022728 -0.000347  \n",
      "number_searches             0.014688      0.030006  0.000972  \n",
      "#times_check_shoppingcart   0.007987      0.005993  0.002112  \n",
      "read_Q&A                   -0.018214     -0.060009 -0.009347  \n",
      "read_product_definition     0.013578      0.012523  0.046257  \n",
      "purchase                    0.008000      0.016792  0.012863  \n",
      "PS_SearchEngine             0.042717      0.075145  0.063292  \n",
      "PS_Email                    0.002903      0.007896 -0.003523  \n",
      "PS_Ads                     -0.004086     -0.009113 -0.000279  \n",
      "PS_Other                   -0.018322     -0.019029 -0.017608  \n",
      "TD_Noon                     1.000000     -0.210583 -0.238098  \n",
      "TD_AfterNoon               -0.210583      1.000000 -0.350059  \n",
      "TD_Eve                     -0.238098     -0.350059  1.000000  \n"
     ]
    }
   ],
   "source": [
    "correlations = clk.corr(method='pearson')\n",
    "print(correlations)"
   ]
  },
  {
   "cell_type": "markdown",
   "metadata": {},
   "source": [
    "Skewness \n",
    "Skewness helps us determine what are the features that is skewed normally towards the mean."
   ]
  },
  {
   "cell_type": "code",
   "execution_count": 40,
   "metadata": {},
   "outputs": [
    {
     "name": "stdout",
     "output_type": "stream",
     "text": [
      "ip                             0.323797\n",
      "login_or_not                   6.105696\n",
      "#page_view                    13.513009\n",
      "page_view_time_seconds_avg     7.976575\n",
      "#page_product_view            20.260739\n",
      "page_product_time_avg         19.412996\n",
      "number_searches               12.026018\n",
      "#times_check_shoppingcart     36.750070\n",
      "read_Q&A                       0.369333\n",
      "read_product_definition        1.275040\n",
      "purchase                       7.134253\n",
      "PS_SearchEngine                0.273214\n",
      "PS_Email                      14.743635\n",
      "PS_Ads                        19.557442\n",
      "PS_Other                       1.281645\n",
      "TD_Noon                        2.263847\n",
      "TD_AfterNoon                   1.240777\n",
      "TD_Eve                         0.960388\n",
      "dtype: float64\n"
     ]
    }
   ],
   "source": [
    "skew = clk.skew()\n",
    "print(skew)"
   ]
  },
  {
   "cell_type": "markdown",
   "metadata": {},
   "source": [
    "### Feature Extraction\n",
    "Dropping Ip's as no correlation found for Ip with purchases."
   ]
  },
  {
   "cell_type": "code",
   "execution_count": 15,
   "metadata": {},
   "outputs": [],
   "source": [
    "X=clk[clk.columns.difference(['ip','purchase'])]\n",
    "y=clk['purchase']"
   ]
  },
  {
   "cell_type": "markdown",
   "metadata": {},
   "source": [
    "# Splitting the Data into train and Test"
   ]
  },
  {
   "cell_type": "code",
   "execution_count": 16,
   "metadata": {},
   "outputs": [],
   "source": [
    "indices = range(X.shape[0])\n",
    "num_training_indices = int(0.8 * X.shape[0])\n",
    "np.random.shuffle(indices)\n",
    "train_indices = indices[:num_training_indices]\n",
    "test_indices = indices[num_training_indices:]\n",
    "\n",
    "# split the actual data\n",
    "X_train, X_test = X.iloc[train_indices], X.iloc[test_indices]\n",
    "y_train, y_test = y.iloc[train_indices], y.iloc[test_indices]"
   ]
  },
  {
   "cell_type": "markdown",
   "metadata": {},
   "source": [
    "### Logistic Regression model"
   ]
  },
  {
   "cell_type": "code",
   "execution_count": 43,
   "metadata": {},
   "outputs": [
    {
     "data": {
      "text/plain": [
       "LogisticRegression(C=1.0, class_weight=None, dual=False, fit_intercept=True,\n",
       "          intercept_scaling=1, max_iter=100, multi_class='ovr', n_jobs=1,\n",
       "          penalty='l2', random_state=None, solver='liblinear', tol=0.0001,\n",
       "          verbose=0, warm_start=False)"
      ]
     },
     "execution_count": 43,
     "metadata": {},
     "output_type": "execute_result"
    }
   ],
   "source": [
    "from sklearn.linear_model import LogisticRegression\n",
    "model=LogisticRegression()\n",
    "model.fit(X_train,y_train)"
   ]
  },
  {
   "cell_type": "code",
   "execution_count": 44,
   "metadata": {},
   "outputs": [],
   "source": [
    "y_pred=model.predict(X_test)"
   ]
  },
  {
   "cell_type": "markdown",
   "metadata": {},
   "source": [
    "### Evaluation metrics"
   ]
  },
  {
   "cell_type": "code",
   "execution_count": 45,
   "metadata": {},
   "outputs": [
    {
     "data": {
      "text/plain": [
       "u'             precision    recall  f1-score   support\\n\\n          0       0.99      1.00      0.99     79720\\n          1       0.70      0.35      0.47      1464\\n\\navg / total       0.98      0.99      0.98     81184\\n'"
      ]
     },
     "execution_count": 45,
     "metadata": {},
     "output_type": "execute_result"
    }
   ],
   "source": [
    "from sklearn.metrics import classification_report\n",
    "classification_report(y_test,y_pred)"
   ]
  },
  {
   "cell_type": "code",
   "execution_count": 46,
   "metadata": {},
   "outputs": [],
   "source": [
    "from sklearn.metrics import confusion_matrix,accuracy_score,recall_score"
   ]
  },
  {
   "cell_type": "code",
   "execution_count": 47,
   "metadata": {},
   "outputs": [
    {
     "data": {
      "text/plain": [
       "array([[79501,   219],\n",
       "       [  949,   515]], dtype=int64)"
      ]
     },
     "execution_count": 47,
     "metadata": {},
     "output_type": "execute_result"
    }
   ],
   "source": [
    "confusion_matrix(y_test,y_pred)"
   ]
  },
  {
   "cell_type": "code",
   "execution_count": 48,
   "metadata": {},
   "outputs": [
    {
     "data": {
      "text/plain": [
       "(99.0, 35.0)"
      ]
     },
     "execution_count": 48,
     "metadata": {},
     "output_type": "execute_result"
    }
   ],
   "source": [
    "(accuracy_score(y_test,y_pred)*100).round(),(recall_score(y_test,y_pred)*100).round()"
   ]
  },
  {
   "cell_type": "code",
   "execution_count": 49,
   "metadata": {},
   "outputs": [
    {
     "data": {
      "text/plain": [
       "array([[-1.34703690e-01,  1.63765698e-01,  1.65228990e-01,\n",
       "        -1.78885057e+00,  2.32549457e-01, -5.27172565e-01,\n",
       "        -4.05105716e-01,  3.64413573e-01,  5.66762712e-01,\n",
       "         4.17198631e-01,  7.98843616e-01, -1.71901443e-01,\n",
       "         2.78067795e-03,  3.18044134e-03, -1.15916858e+01,\n",
       "        -1.03545426e+01]])"
      ]
     },
     "execution_count": 49,
     "metadata": {},
     "output_type": "execute_result"
    }
   ],
   "source": [
    "model.coef_"
   ]
  },
  {
   "cell_type": "markdown",
   "metadata": {},
   "source": [
    "### Features and its coefficients"
   ]
  },
  {
   "cell_type": "code",
   "execution_count": 57,
   "metadata": {},
   "outputs": [
    {
     "data": {
      "text/html": [
       "<div>\n",
       "<style scoped>\n",
       "    .dataframe tbody tr th:only-of-type {\n",
       "        vertical-align: middle;\n",
       "    }\n",
       "\n",
       "    .dataframe tbody tr th {\n",
       "        vertical-align: top;\n",
       "    }\n",
       "\n",
       "    .dataframe thead th {\n",
       "        text-align: right;\n",
       "    }\n",
       "</style>\n",
       "<table border=\"1\" class=\"dataframe\">\n",
       "  <thead>\n",
       "    <tr style=\"text-align: right;\">\n",
       "      <th></th>\n",
       "      <th>Features</th>\n",
       "      <th>Coeff_Values</th>\n",
       "      <th>Odds</th>\n",
       "    </tr>\n",
       "  </thead>\n",
       "  <tbody>\n",
       "    <tr>\n",
       "      <th>10</th>\n",
       "      <td>login_or_not</td>\n",
       "      <td>0.873832</td>\n",
       "      <td>2.396075</td>\n",
       "    </tr>\n",
       "    <tr>\n",
       "      <th>8</th>\n",
       "      <td>TD_Eve</td>\n",
       "      <td>0.593730</td>\n",
       "      <td>1.810731</td>\n",
       "    </tr>\n",
       "    <tr>\n",
       "      <th>9</th>\n",
       "      <td>TD_Noon</td>\n",
       "      <td>0.454276</td>\n",
       "      <td>1.575032</td>\n",
       "    </tr>\n",
       "    <tr>\n",
       "      <th>7</th>\n",
       "      <td>TD_AfterNoon</td>\n",
       "      <td>0.408032</td>\n",
       "      <td>1.503855</td>\n",
       "    </tr>\n",
       "    <tr>\n",
       "      <th>4</th>\n",
       "      <td>PS_Email</td>\n",
       "      <td>0.270585</td>\n",
       "      <td>1.310731</td>\n",
       "    </tr>\n",
       "    <tr>\n",
       "      <th>2</th>\n",
       "      <td>#times_check_shoppingcart</td>\n",
       "      <td>0.177262</td>\n",
       "      <td>1.193944</td>\n",
       "    </tr>\n",
       "    <tr>\n",
       "      <th>1</th>\n",
       "      <td>#page_view</td>\n",
       "      <td>0.165699</td>\n",
       "      <td>1.180217</td>\n",
       "    </tr>\n",
       "    <tr>\n",
       "      <th>13</th>\n",
       "      <td>page_view_time_seconds_avg</td>\n",
       "      <td>0.003050</td>\n",
       "      <td>1.003054</td>\n",
       "    </tr>\n",
       "    <tr>\n",
       "      <th>12</th>\n",
       "      <td>page_product_time_avg</td>\n",
       "      <td>0.002805</td>\n",
       "      <td>1.002809</td>\n",
       "    </tr>\n",
       "    <tr>\n",
       "      <th>0</th>\n",
       "      <td>#page_product_view</td>\n",
       "      <td>-0.134235</td>\n",
       "      <td>0.874385</td>\n",
       "    </tr>\n",
       "    <tr>\n",
       "      <th>11</th>\n",
       "      <td>number_searches</td>\n",
       "      <td>-0.182030</td>\n",
       "      <td>0.833576</td>\n",
       "    </tr>\n",
       "    <tr>\n",
       "      <th>6</th>\n",
       "      <td>PS_SearchEngine</td>\n",
       "      <td>-0.306967</td>\n",
       "      <td>0.735675</td>\n",
       "    </tr>\n",
       "    <tr>\n",
       "      <th>5</th>\n",
       "      <td>PS_Other</td>\n",
       "      <td>-0.487889</td>\n",
       "      <td>0.613921</td>\n",
       "    </tr>\n",
       "    <tr>\n",
       "      <th>3</th>\n",
       "      <td>PS_Ads</td>\n",
       "      <td>-1.746741</td>\n",
       "      <td>0.174341</td>\n",
       "    </tr>\n",
       "    <tr>\n",
       "      <th>15</th>\n",
       "      <td>read_product_definition</td>\n",
       "      <td>-8.839464</td>\n",
       "      <td>0.000145</td>\n",
       "    </tr>\n",
       "    <tr>\n",
       "      <th>14</th>\n",
       "      <td>read_Q&amp;A</td>\n",
       "      <td>-11.115891</td>\n",
       "      <td>0.000015</td>\n",
       "    </tr>\n",
       "  </tbody>\n",
       "</table>\n",
       "</div>"
      ],
      "text/plain": [
       "                      Features  Coeff_Values      Odds\n",
       "10                login_or_not      0.873832  2.396075\n",
       "8                       TD_Eve      0.593730  1.810731\n",
       "9                      TD_Noon      0.454276  1.575032\n",
       "7                 TD_AfterNoon      0.408032  1.503855\n",
       "4                     PS_Email      0.270585  1.310731\n",
       "2    #times_check_shoppingcart      0.177262  1.193944\n",
       "1                   #page_view      0.165699  1.180217\n",
       "13  page_view_time_seconds_avg      0.003050  1.003054\n",
       "12       page_product_time_avg      0.002805  1.002809\n",
       "0           #page_product_view     -0.134235  0.874385\n",
       "11             number_searches     -0.182030  0.833576\n",
       "6              PS_SearchEngine     -0.306967  0.735675\n",
       "5                     PS_Other     -0.487889  0.613921\n",
       "3                       PS_Ads     -1.746741  0.174341\n",
       "15     read_product_definition     -8.839464  0.000145\n",
       "14                    read_Q&A    -11.115891  0.000015"
      ]
     },
     "execution_count": 57,
     "metadata": {},
     "output_type": "execute_result"
    }
   ],
   "source": [
    "coefficients = pd.concat([pd.DataFrame(X.columns),pd.DataFrame(np.transpose(model.coef_))], axis = 1)\n",
    "coefficients.columns=['Features','Coeff_Values']\n",
    "coefficients['Odds']=np.exp(coefficients['Coeff_Values'])\n",
    "coefficients.sort_values(by=['Odds'],ascending=False,inplace=True)\n",
    "coefficients.reset_index().drop(['index'], axis=1)\n",
    "coefficients"
   ]
  },
  {
   "cell_type": "markdown",
   "metadata": {},
   "source": [
    "### Lift Chart"
   ]
  },
  {
   "cell_type": "markdown",
   "metadata": {},
   "source": [
    "Lift chart shows which percentage of all targets is reached when addressing a certain percentage of population."
   ]
  },
  {
   "cell_type": "code",
   "execution_count": null,
   "metadata": {},
   "outputs": [],
   "source": [
    "predicted_probas = model.predict_proba(X_test)\n",
    "import matplotlib.pyplot as plt\n",
    "import scikitplot as skplt\n",
    "skplt.metrics.plot_cumulative_gain(y_test, predicted_probas, figsize=(6,6))\n",
    "plt.show()"
   ]
  },
  {
   "attachments": {
    "image.png": {
     "image/png": "[encoded data removed]"
    }
   },
   "cell_type": "markdown",
   "metadata": {},
   "source": [
    "![image.png](attachment:image.png)"
   ]
  },
  {
   "cell_type": "markdown",
   "metadata": {},
   "source": [
    "### Confidence Interval (95%)"
   ]
  },
  {
   "cell_type": "code",
   "execution_count": 61,
   "metadata": {},
   "outputs": [
    {
     "data": {
      "image/png": "[encoded data removed]",
      "text/plain": [
       "<Figure size 432x288 with 1 Axes>"
      ]
     },
     "metadata": {},
     "output_type": "display_data"
    },
    {
     "name": "stdout",
     "output_type": "stream",
     "text": [
      "95.0 confidence interval 98.0% and 100.0%\n"
     ]
    }
   ],
   "source": [
    "import numpy\n",
    "from sklearn.model_selection import train_test_split\n",
    "stats = list()\n",
    "for i in np.linspace(10,100,dtype=int): \n",
    "    X_train,X_test,y_train,y_test = train_test_split(X,y,test_size=0.3, random_state=i)\n",
    "    model=LogisticRegression()\n",
    "    model.fit(X_train,y_train)\n",
    "    y_pred=model.predict(X_test)\n",
    "    score = (accuracy_score(y_test,y_pred)*100).round()\n",
    "    stats.append(score)\n",
    "plt.hist(stats)\n",
    "plt.show()\n",
    "\n",
    "alpha = 0.95\n",
    "p = ((1.0-alpha)/2.0) * 100\n",
    "lower = max(0.0, numpy.percentile(stats, p))\n",
    "p = (alpha+((1.0-alpha)/2.0)) * 100\n",
    "upper = min(1.0, numpy.percentile(stats, p))\n",
    "print('%.1f confidence interval %.1f%% and %.1f%%' % (alpha*100, lower, upper*100))"
   ]
  },
  {
   "cell_type": "markdown",
   "metadata": {},
   "source": [
    "# P values\n",
    "Most of the p values are lesser than 0.05 this falsifies our null hypothesis."
   ]
  },
  {
   "cell_type": "code",
   "execution_count": 62,
   "metadata": {},
   "outputs": [],
   "source": [
    "from sklearn.feature_selection import chi2"
   ]
  },
  {
   "cell_type": "code",
   "execution_count": 65,
   "metadata": {},
   "outputs": [
    {
     "data": {
      "text/plain": [
       "array([0.00000000e+000, 0.00000000e+000, 0.00000000e+000, 1.58419863e-004,\n",
       "       2.45883229e-193, 3.62910599e-001, 6.35489953e-004, 8.86094297e-021,\n",
       "       4.01489287e-012, 1.86884268e-006, 0.00000000e+000, 0.00000000e+000,\n",
       "       0.00000000e+000, 0.00000000e+000, 0.00000000e+000, 0.00000000e+000])"
      ]
     },
     "execution_count": 65,
     "metadata": {},
     "output_type": "execute_result"
    }
   ],
   "source": [
    "scores, pvalues = chi2(X, y)\n",
    "pvalues"
   ]
  },
  {
   "cell_type": "markdown",
   "metadata": {},
   "source": [
    "# KNN model "
   ]
  },
  {
   "cell_type": "code",
   "execution_count": 66,
   "metadata": {},
   "outputs": [
    {
     "data": {
      "text/plain": [
       "KNeighborsClassifier(algorithm='auto', leaf_size=30, metric='minkowski',\n",
       "           metric_params=None, n_jobs=1, n_neighbors=10, p=2,\n",
       "           weights='uniform')"
      ]
     },
     "execution_count": 66,
     "metadata": {},
     "output_type": "execute_result"
    }
   ],
   "source": [
    "from sklearn.neighbors import KNeighborsClassifier  \n",
    "classifier = KNeighborsClassifier(n_neighbors=10)  \n",
    "classifier.fit(X_train, y_train)  "
   ]
  },
  {
   "cell_type": "code",
   "execution_count": 67,
   "metadata": {},
   "outputs": [],
   "source": [
    "y_pred = classifier.predict(X_test) "
   ]
  },
  {
   "cell_type": "markdown",
   "metadata": {},
   "source": [
    "# Evaluation Metrics"
   ]
  },
  {
   "cell_type": "code",
   "execution_count": 68,
   "metadata": {},
   "outputs": [
    {
     "name": "stdout",
     "output_type": "stream",
     "text": [
      "[[119199    346]\n",
      " [  1441    790]]\n",
      "             precision    recall  f1-score   support\n",
      "\n",
      "          0       0.99      1.00      0.99    119545\n",
      "          1       0.70      0.35      0.47      2231\n",
      "\n",
      "avg / total       0.98      0.99      0.98    121776\n",
      "\n"
     ]
    }
   ],
   "source": [
    "from sklearn.metrics import recall_score\n",
    "from sklearn.metrics import classification_report, confusion_matrix,accuracy_score \n",
    "print(confusion_matrix(y_test, y_pred))  \n",
    "print(classification_report(y_test, y_pred))"
   ]
  },
  {
   "cell_type": "code",
   "execution_count": 69,
   "metadata": {},
   "outputs": [
    {
     "data": {
      "text/plain": [
       "98.53255157009592"
      ]
     },
     "execution_count": 69,
     "metadata": {},
     "output_type": "execute_result"
    }
   ],
   "source": [
    "accuracy_score(y_test,y_pred)*100"
   ]
  },
  {
   "cell_type": "code",
   "execution_count": null,
   "metadata": {},
   "outputs": [],
   "source": [
    "#error = []\n",
    "# Calculating error for K values between 1 and 40\n",
    "#for i in range(5, 15):  \n",
    "#    knn = KNeighborsClassifier(n_neighbors=i)\n",
    "#    knn.fit(X_train, y_train)\n",
    "#    pred_i = knn.predict(X_test)\n",
    "#    error.append(np.mean(pred_i != y_test))"
   ]
  },
  {
   "cell_type": "code",
   "execution_count": null,
   "metadata": {},
   "outputs": [],
   "source": [
    "#plt.figure(figsize=(12, 6))  \n",
    "#plt.plot(range(1, 40), error, color='red', linestyle='dashed', marker='o',  \n",
    "#         markerfacecolor='blue', markersize=10)\n",
    "#plt.title('Error Rate K Value')  \n",
    "#plt.xlabel('K Value')  \n",
    "#plt.ylabel('Mean Error')"
   ]
  },
  {
   "cell_type": "markdown",
   "metadata": {},
   "source": [
    "# Decision Trees."
   ]
  },
  {
   "cell_type": "code",
   "execution_count": 70,
   "metadata": {},
   "outputs": [],
   "source": [
    "X = clk.drop(['purchase','ip'],axis = 1)"
   ]
  },
  {
   "cell_type": "code",
   "execution_count": 71,
   "metadata": {},
   "outputs": [],
   "source": [
    "y = clk['purchase']"
   ]
  },
  {
   "cell_type": "code",
   "execution_count": 72,
   "metadata": {},
   "outputs": [
    {
     "name": "stdout",
     "output_type": "stream",
     "text": [
      "(405919, 16)\n"
     ]
    }
   ],
   "source": [
    "print (X.shape) "
   ]
  },
  {
   "cell_type": "code",
   "execution_count": 73,
   "metadata": {},
   "outputs": [],
   "source": [
    "import random \n",
    "from random import shuffle"
   ]
  },
  {
   "cell_type": "code",
   "execution_count": 74,
   "metadata": {},
   "outputs": [],
   "source": [
    "indices = range(X.shape[0])\n",
    "num_training_indices = int(0.8 * X.shape[0])\n",
    "np.random.shuffle(indices)\n",
    "train_indices = indices[:num_training_indices]\n",
    "test_indices = indices[num_training_indices:]\n",
    "\n",
    "# split the actual data\n",
    "X_train, X_test = X.iloc[train_indices], X.iloc[test_indices]\n",
    "y_train, y_test = y.iloc[train_indices], y.iloc[test_indices]"
   ]
  },
  {
   "cell_type": "code",
   "execution_count": 75,
   "metadata": {},
   "outputs": [],
   "source": [
    "y = clk['purchase']"
   ]
  },
  {
   "cell_type": "code",
   "execution_count": 76,
   "metadata": {},
   "outputs": [],
   "source": [
    "from sklearn.tree import DecisionTreeClassifier"
   ]
  },
  {
   "cell_type": "code",
   "execution_count": 77,
   "metadata": {},
   "outputs": [],
   "source": [
    "dtree = DecisionTreeClassifier()"
   ]
  },
  {
   "cell_type": "code",
   "execution_count": 78,
   "metadata": {},
   "outputs": [
    {
     "data": {
      "text/plain": [
       "DecisionTreeClassifier(class_weight=None, criterion='gini', max_depth=None,\n",
       "            max_features=None, max_leaf_nodes=None,\n",
       "            min_impurity_decrease=0.0, min_impurity_split=None,\n",
       "            min_samples_leaf=1, min_samples_split=2,\n",
       "            min_weight_fraction_leaf=0.0, presort=False, random_state=None,\n",
       "            splitter='best')"
      ]
     },
     "execution_count": 78,
     "metadata": {},
     "output_type": "execute_result"
    }
   ],
   "source": [
    "dtree.fit(X_train,y_train)"
   ]
  },
  {
   "cell_type": "code",
   "execution_count": 79,
   "metadata": {},
   "outputs": [],
   "source": [
    "predictions = dtree.predict(X_test)"
   ]
  },
  {
   "cell_type": "code",
   "execution_count": 19,
   "metadata": {},
   "outputs": [],
   "source": [
    "from sklearn.metrics import classification_report,confusion_matrix"
   ]
  },
  {
   "cell_type": "code",
   "execution_count": 81,
   "metadata": {},
   "outputs": [
    {
     "name": "stdout",
     "output_type": "stream",
     "text": [
      "[[78975   663]\n",
      " [  622   924]]\n",
      "\n",
      "\n",
      "             precision    recall  f1-score   support\n",
      "\n",
      "          0       0.99      0.99      0.99     79638\n",
      "          1       0.58      0.60      0.59      1546\n",
      "\n",
      "avg / total       0.98      0.98      0.98     81184\n",
      "\n"
     ]
    }
   ],
   "source": [
    "print(confusion_matrix(y_test,predictions))\n",
    "print('\\n')\n",
    "print(classification_report(y_test,predictions))"
   ]
  },
  {
   "cell_type": "markdown",
   "metadata": {},
   "source": [
    "## RANDOM FOREST"
   ]
  },
  {
   "cell_type": "code",
   "execution_count": 2,
   "metadata": {},
   "outputs": [],
   "source": [
    "from sklearn.ensemble import RandomForestClassifier"
   ]
  },
  {
   "cell_type": "code",
   "execution_count": 17,
   "metadata": {},
   "outputs": [
    {
     "data": {
      "text/plain": [
       "RandomForestClassifier(bootstrap=True, class_weight=None, criterion='gini',\n",
       "            max_depth=None, max_features='auto', max_leaf_nodes=None,\n",
       "            min_impurity_decrease=0.0, min_impurity_split=None,\n",
       "            min_samples_leaf=1, min_samples_split=2,\n",
       "            min_weight_fraction_leaf=0.0, n_estimators=100, n_jobs=1,\n",
       "            oob_score=False, random_state=None, verbose=0,\n",
       "            warm_start=False)"
      ]
     },
     "execution_count": 17,
     "metadata": {},
     "output_type": "execute_result"
    }
   ],
   "source": [
    "rfc = RandomForestClassifier(n_estimators=100)\n",
    "rfc.fit(X_train, y_train)"
   ]
  },
  {
   "cell_type": "code",
   "execution_count": 21,
   "metadata": {},
   "outputs": [
    {
     "name": "stdout",
     "output_type": "stream",
     "text": [
      "[[79328   325]\n",
      " [  620   911]]\n",
      "\n",
      "\n",
      "             precision    recall  f1-score   support\n",
      "\n",
      "          0       0.99      1.00      0.99     79653\n",
      "          1       0.74      0.60      0.66      1531\n",
      "\n",
      "avg / total       0.99      0.99      0.99     81184\n",
      "\n"
     ]
    }
   ],
   "source": [
    "rfc_pred = rfc.predict(X_test)\n",
    "print(confusion_matrix(y_test,rfc_pred))\n",
    "print('\\n')\n",
    "print(classification_report(y_test,rfc_pred))"
   ]
  },
  {
   "cell_type": "code",
   "execution_count": 22,
   "metadata": {},
   "outputs": [
    {
     "data": {
      "text/plain": [
       "<matplotlib.axes._subplots.AxesSubplot at 0x1efe75c0>"
      ]
     },
     "execution_count": 22,
     "metadata": {},
     "output_type": "execute_result"
    },
    {
     "data": {
      "image/png": "[encoded data removed]",
      "text/plain": [
       "<Figure size 432x288 with 1 Axes>"
      ]
     },
     "metadata": {},
     "output_type": "display_data"
    }
   ],
   "source": [
    "feat_importances = pd.Series(rfc.feature_importances_, index=X.columns)\n",
    "feat_importances.nlargest(10).plot(kind='barh')"
   ]
  },
  {
   "cell_type": "code",
   "execution_count": 87,
   "metadata": {},
   "outputs": [
    {
     "data": {
      "text/plain": [
       "DecisionTreeClassifier(class_weight=None, criterion='gini', max_depth=5,\n",
       "            max_features=None, max_leaf_nodes=10,\n",
       "            min_impurity_decrease=0.0, min_impurity_split=None,\n",
       "            min_samples_leaf=5, min_samples_split=2,\n",
       "            min_weight_fraction_leaf=0.0, presort=False, random_state=None,\n",
       "            splitter='random')"
      ]
     },
     "execution_count": 87,
     "metadata": {},
     "output_type": "execute_result"
    }
   ],
   "source": [
    "dtree = DecisionTreeClassifier(criterion = \"gini\", splitter = 'random', max_leaf_nodes = 10, min_samples_leaf = 5, max_depth= 5)\n",
    "dtree.fit(X_train,y_train)"
   ]
  },
  {
   "cell_type": "code",
   "execution_count": 88,
   "metadata": {},
   "outputs": [
    {
     "name": "stdout",
     "output_type": "stream",
     "text": [
      "[0 0 0 ... 0 0 0]\n"
     ]
    }
   ],
   "source": [
    "predict3 = dtree.predict(X_train)\n",
    "print(predict3)"
   ]
  },
  {
   "cell_type": "code",
   "execution_count": 89,
   "metadata": {},
   "outputs": [
    {
     "data": {
      "text/plain": [
       "0.9831863421363816"
      ]
     },
     "execution_count": 89,
     "metadata": {},
     "output_type": "execute_result"
    }
   ],
   "source": [
    "score2 = dtree.score(X_test, y_test)\n",
    "score2"
   ]
  },
  {
   "cell_type": "markdown",
   "metadata": {},
   "source": [
    "# Cross Validation"
   ]
  },
  {
   "cell_type": "code",
   "execution_count": 90,
   "metadata": {},
   "outputs": [
    {
     "name": "stderr",
     "output_type": "stream",
     "text": [
      "C:\\Users\\lavanyameenakshi\\Anaconda3\\envs\\py27\\lib\\site-packages\\sklearn\\cross_validation.py:41: DeprecationWarning: This module was deprecated in version 0.18 in favor of the model_selection module into which all the refactored classes and functions are moved. Also note that the interface of the new CV iterators are different from that of this module. This module will be removed in 0.20.\n",
      "  \"This module will be removed in 0.20.\", DeprecationWarning)\n"
     ]
    }
   ],
   "source": [
    "from sklearn.cross_validation import cross_val_score,cross_val_predict\n",
    "from pprint import pprint\n",
    "from sklearn import metrics"
   ]
  },
  {
   "cell_type": "code",
   "execution_count": 92,
   "metadata": {},
   "outputs": [
    {
     "name": "stdout",
     "output_type": "stream",
     "text": [
      "[(3, 0.9832873119985089), (4, 0.9833488977881731), (5, 0.9850315035800536), (6, 0.9858444734187146), (7, 0.9864406529426577), (8, 0.986992487388036), (9, 0.9875024387226043), (10, 0.9873817264346229), (11, 0.9872807209220391)]\n"
     ]
    }
   ],
   "source": [
    "depth = []\n",
    "for i in range(3,12):\n",
    "    clf = DecisionTreeClassifier(max_depth=i)\n",
    "    # Perform 9-fold cross validation \n",
    "    scores = cross_val_score(estimator=clf, X=X, y=y, cv=9, n_jobs=4)\n",
    "    depth.append((i,scores.mean()))\n",
    "print(depth)"
   ]
  },
  {
   "cell_type": "code",
   "execution_count": null,
   "metadata": {},
   "outputs": [],
   "source": []
  }
 ],
 "metadata": {
  "kernelspec": {
   "display_name": "Python 3",
   "language": "python",
   "name": "python3"
  },
  "language_info": {
   "codemirror_mode": {
    "name": "ipython",
    "version": 3
   },
   "file_extension": ".py",
   "mimetype": "text/x-python",
   "name": "python",
   "nbconvert_exporter": "python",
   "pygments_lexer": "ipython3",
   "version": "3.7.0"
  }
 },
 "nbformat": 4,
 "nbformat_minor": 2
}
